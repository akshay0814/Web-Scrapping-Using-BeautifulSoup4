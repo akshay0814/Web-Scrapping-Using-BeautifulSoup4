{
 "cells": [
  {
   "cell_type": "markdown",
   "metadata": {},
   "source": [
    "## What is Web Scrapping\n",
    "### Web scraping, web harvesting, or web data extraction is an automated process of collecting large data(unstructured) from websites. The user can extract all the data on particular sites or the specific data as per the requirement. The data collected can be stored in a structured format for further analysis."
   ]
  },
  {
   "cell_type": "markdown",
   "metadata": {},
   "source": [
    "## Steps involved in web scraping:\n",
    "\n",
    "### Find the URL of the webpage that you want to scrape\n",
    "#### Select the particular elements by inspecting\n",
    "#### Write the code to get the content of the selected elements\n",
    "#### Store the data in the required format"
   ]
  },
  {
   "cell_type": "code",
   "execution_count": 1,
   "metadata": {
    "scrolled": false
   },
   "outputs": [
    {
     "name": "stdout",
     "output_type": "stream",
     "text": [
      "Requirement already satisfied: requests in c:\\users\\hp\\anaconda3\\lib\\site-packages (2.24.0)\n",
      "Requirement already satisfied: certifi>=2017.4.17 in c:\\users\\hp\\anaconda3\\lib\\site-packages (from requests) (2020.6.20)\n",
      "Requirement already satisfied: idna<3,>=2.5 in c:\\users\\hp\\anaconda3\\lib\\site-packages (from requests) (2.10)\n",
      "Requirement already satisfied: urllib3!=1.25.0,!=1.25.1,<1.26,>=1.21.1 in c:\\users\\hp\\anaconda3\\lib\\site-packages (from requests) (1.25.11)\n",
      "Requirement already satisfied: chardet<4,>=3.0.2 in c:\\users\\hp\\anaconda3\\lib\\site-packages (from requests) (3.0.4)\n"
     ]
    }
   ],
   "source": [
    "! pip install requests"
   ]
  },
  {
   "cell_type": "code",
   "execution_count": 2,
   "metadata": {
    "scrolled": true
   },
   "outputs": [
    {
     "name": "stdout",
     "output_type": "stream",
     "text": [
      "Requirement already satisfied: BeautifulSoup4 in c:\\users\\hp\\anaconda3\\lib\\site-packages (4.9.3)\n",
      "Requirement already satisfied: soupsieve>1.2; python_version >= \"3.0\" in c:\\users\\hp\\anaconda3\\lib\\site-packages (from BeautifulSoup4) (2.0.1)\n"
     ]
    }
   ],
   "source": [
    "! pip install BeautifulSoup4"
   ]
  },
  {
   "cell_type": "code",
   "execution_count": 3,
   "metadata": {},
   "outputs": [],
   "source": [
    "# importing libraries\n",
    "import pandas as pd #pandas – to create a dataframe\n",
    "import requests #requests – to send HTTP requests and access the HTML content from the target webpage\n",
    "from bs4 import BeautifulSoup as bs #BeautifulSoup – is a Python Library for parsing structured HTML data"
   ]
  },
  {
   "cell_type": "code",
   "execution_count": 4,
   "metadata": {},
   "outputs": [],
   "source": [
    "base_url = \"https://www.consumeraffairs.com/food/dominos.html\"\n",
    "all_pages_reviews =[]"
   ]
  },
  {
   "cell_type": "code",
   "execution_count": 11,
   "metadata": {},
   "outputs": [],
   "source": [
    "def scraper():\n",
    "    for i in range(1,11): # fetching reviews from five pages\n",
    "        pagewise_reviews = [] #Creating an empty list to store the reviews of each page(from 1 to 5)\n",
    "        # Query parameters represent additional values that can be declared on the page.\n",
    "        query_parameter = \"?page=\"+str(i) # i represents the page number\n",
    "        url = base_url + query_parameter #Construct the URL\n",
    "        response = requests.get(url) #Send HTTP request to the URL using requests and store the response\n",
    "        soup = bs(response.content, 'html.parser') #Create a soup object and parse the HTML page\n",
    "        rev_div = soup.findAll(\"div\",attrs={\"class\",\"rvw-bd\"}) #Find all the div elements of class name “rvw-bd” and \n",
    "                                                               #store them in a variable\n",
    "            \n",
    "\n",
    "    for j in range(len(rev_div)): #Loop through all the rev_div and append the review text to the pagewise_reviews list\n",
    "    # finding all the p tags to fetch only the review text\n",
    "        pagewise_reviews.append(rev_div[j].find(\"p\").text)\n",
    "\n",
    "    for k in range(len(pagewise_reviews)): #Append all pagewise review to a single list “all_pages_reviews”\n",
    "        all_pages_reviews.append(pagewise_reviews[k]) \n",
    "    return all_pages_reviews #At the end of the function, return the final list of reviews\n"
   ]
  },
  {
   "cell_type": "code",
   "execution_count": 12,
   "metadata": {},
   "outputs": [
    {
     "name": "stdout",
     "output_type": "stream",
     "text": [
      "                                               review\n",
      "1   I ordered a pizza from local outlet on 4 April...\n",
      "2   My daughter ordered a pizza online, the driver...\n",
      "3   My daughter ordered a pizza online, the driver...\n",
      "4   Dominos duped me. I gave correct name, address...\n",
      "5   I’ve always ordered from Domino's but lately I...\n",
      "6   Ordered pizza at 1:47 pm with a 23-33 minute d...\n",
      "7   I ordered a pizza and a salad from the Domino'...\n",
      "8   Be forthcoming with delivery times. I would ne...\n",
      "9   I am a business owner that has grown up in the...\n",
      "10  I called Domino's Pizza located at 1601 Hwy. 5...\n",
      "11  I order in Domino's most often but today when ...\n",
      "12  So first off I ordered my pizza without garlic...\n",
      "13  Was Nov. 1st or 2nd this year... Ordered a 2 t...\n",
      "14  I place a order online at the Ralph Ave store ...\n",
      "15  The store in Millington TN. 38053. They are to...\n",
      "16  My Experience – I had ordered 2 farmhouse Pizz...\n",
      "17  This was at Marrickville 2204 store. The filth...\n",
      "18  I placed a order and waited in my living room ...\n",
      "19  My husband and I ordered from Domino's many ti...\n",
      "20  I love the Italiano pizza. It's very delicious...\n",
      "21  If I could give a Zero rating I would. We orde...\n",
      "22  I place an online order to have my 16 year old...\n",
      "23  I was going through some old vinyl albums and ...\n",
      "24  For 4 Sundays now their online ordering does n...\n",
      "25  I ordered A pizza on telephone Road in Houston...\n",
      "26  Domino's Thambuchetty Palya has worst service ...\n",
      "27  My daughters are pepperoni pizza fanatics. Whi...\n",
      "28  The chicken pasta dish had hardly chicken in i...\n",
      "29  I bought pizza online for home delivery. After...\n",
      "30  I never received my order, never received a ca...\n",
      "31  Last week I ordered 2 large 4 topping pizzas. ...\n",
      "32  I had a terrible experience again with this Do...\n"
     ]
    }
   ],
   "source": [
    "# Call the function scraper() and store the output to a variable 'reviews'\n",
    "# Driver code\n",
    "reviews = scraper()\n",
    "i = range(1, len(reviews)+1)\n",
    "reviews_df = pd.DataFrame({'review':reviews}, index=i)\n",
    "print(reviews_df)"
   ]
  },
  {
   "cell_type": "code",
   "execution_count": 13,
   "metadata": {},
   "outputs": [
    {
     "data": {
      "text/html": [
       "<div>\n",
       "<style scoped>\n",
       "    .dataframe tbody tr th:only-of-type {\n",
       "        vertical-align: middle;\n",
       "    }\n",
       "\n",
       "    .dataframe tbody tr th {\n",
       "        vertical-align: top;\n",
       "    }\n",
       "\n",
       "    .dataframe thead th {\n",
       "        text-align: right;\n",
       "    }\n",
       "</style>\n",
       "<table border=\"1\" class=\"dataframe\">\n",
       "  <thead>\n",
       "    <tr style=\"text-align: right;\">\n",
       "      <th></th>\n",
       "      <th>review</th>\n",
       "    </tr>\n",
       "  </thead>\n",
       "  <tbody>\n",
       "    <tr>\n",
       "      <th>1</th>\n",
       "      <td>I ordered a pizza from local outlet on 4 April...</td>\n",
       "    </tr>\n",
       "    <tr>\n",
       "      <th>2</th>\n",
       "      <td>My daughter ordered a pizza online, the driver...</td>\n",
       "    </tr>\n",
       "    <tr>\n",
       "      <th>3</th>\n",
       "      <td>My daughter ordered a pizza online, the driver...</td>\n",
       "    </tr>\n",
       "    <tr>\n",
       "      <th>4</th>\n",
       "      <td>Dominos duped me. I gave correct name, address...</td>\n",
       "    </tr>\n",
       "    <tr>\n",
       "      <th>5</th>\n",
       "      <td>I’ve always ordered from Domino's but lately I...</td>\n",
       "    </tr>\n",
       "    <tr>\n",
       "      <th>6</th>\n",
       "      <td>Ordered pizza at 1:47 pm with a 23-33 minute d...</td>\n",
       "    </tr>\n",
       "    <tr>\n",
       "      <th>7</th>\n",
       "      <td>I ordered a pizza and a salad from the Domino'...</td>\n",
       "    </tr>\n",
       "    <tr>\n",
       "      <th>8</th>\n",
       "      <td>Be forthcoming with delivery times. I would ne...</td>\n",
       "    </tr>\n",
       "    <tr>\n",
       "      <th>9</th>\n",
       "      <td>I am a business owner that has grown up in the...</td>\n",
       "    </tr>\n",
       "    <tr>\n",
       "      <th>10</th>\n",
       "      <td>I called Domino's Pizza located at 1601 Hwy. 5...</td>\n",
       "    </tr>\n",
       "    <tr>\n",
       "      <th>11</th>\n",
       "      <td>I order in Domino's most often but today when ...</td>\n",
       "    </tr>\n",
       "    <tr>\n",
       "      <th>12</th>\n",
       "      <td>So first off I ordered my pizza without garlic...</td>\n",
       "    </tr>\n",
       "    <tr>\n",
       "      <th>13</th>\n",
       "      <td>Was Nov. 1st or 2nd this year... Ordered a 2 t...</td>\n",
       "    </tr>\n",
       "    <tr>\n",
       "      <th>14</th>\n",
       "      <td>I place a order online at the Ralph Ave store ...</td>\n",
       "    </tr>\n",
       "    <tr>\n",
       "      <th>15</th>\n",
       "      <td>The store in Millington TN. 38053. They are to...</td>\n",
       "    </tr>\n",
       "    <tr>\n",
       "      <th>16</th>\n",
       "      <td>My Experience – I had ordered 2 farmhouse Pizz...</td>\n",
       "    </tr>\n",
       "    <tr>\n",
       "      <th>17</th>\n",
       "      <td>This was at Marrickville 2204 store. The filth...</td>\n",
       "    </tr>\n",
       "    <tr>\n",
       "      <th>18</th>\n",
       "      <td>I placed a order and waited in my living room ...</td>\n",
       "    </tr>\n",
       "    <tr>\n",
       "      <th>19</th>\n",
       "      <td>My husband and I ordered from Domino's many ti...</td>\n",
       "    </tr>\n",
       "    <tr>\n",
       "      <th>20</th>\n",
       "      <td>I love the Italiano pizza. It's very delicious...</td>\n",
       "    </tr>\n",
       "    <tr>\n",
       "      <th>21</th>\n",
       "      <td>If I could give a Zero rating I would. We orde...</td>\n",
       "    </tr>\n",
       "    <tr>\n",
       "      <th>22</th>\n",
       "      <td>I place an online order to have my 16 year old...</td>\n",
       "    </tr>\n",
       "    <tr>\n",
       "      <th>23</th>\n",
       "      <td>I was going through some old vinyl albums and ...</td>\n",
       "    </tr>\n",
       "    <tr>\n",
       "      <th>24</th>\n",
       "      <td>For 4 Sundays now their online ordering does n...</td>\n",
       "    </tr>\n",
       "    <tr>\n",
       "      <th>25</th>\n",
       "      <td>I ordered A pizza on telephone Road in Houston...</td>\n",
       "    </tr>\n",
       "    <tr>\n",
       "      <th>26</th>\n",
       "      <td>Domino's Thambuchetty Palya has worst service ...</td>\n",
       "    </tr>\n",
       "    <tr>\n",
       "      <th>27</th>\n",
       "      <td>My daughters are pepperoni pizza fanatics. Whi...</td>\n",
       "    </tr>\n",
       "    <tr>\n",
       "      <th>28</th>\n",
       "      <td>The chicken pasta dish had hardly chicken in i...</td>\n",
       "    </tr>\n",
       "    <tr>\n",
       "      <th>29</th>\n",
       "      <td>I bought pizza online for home delivery. After...</td>\n",
       "    </tr>\n",
       "    <tr>\n",
       "      <th>30</th>\n",
       "      <td>I never received my order, never received a ca...</td>\n",
       "    </tr>\n",
       "    <tr>\n",
       "      <th>31</th>\n",
       "      <td>Last week I ordered 2 large 4 topping pizzas. ...</td>\n",
       "    </tr>\n",
       "    <tr>\n",
       "      <th>32</th>\n",
       "      <td>I had a terrible experience again with this Do...</td>\n",
       "    </tr>\n",
       "  </tbody>\n",
       "</table>\n",
       "</div>"
      ],
      "text/plain": [
       "                                               review\n",
       "1   I ordered a pizza from local outlet on 4 April...\n",
       "2   My daughter ordered a pizza online, the driver...\n",
       "3   My daughter ordered a pizza online, the driver...\n",
       "4   Dominos duped me. I gave correct name, address...\n",
       "5   I’ve always ordered from Domino's but lately I...\n",
       "6   Ordered pizza at 1:47 pm with a 23-33 minute d...\n",
       "7   I ordered a pizza and a salad from the Domino'...\n",
       "8   Be forthcoming with delivery times. I would ne...\n",
       "9   I am a business owner that has grown up in the...\n",
       "10  I called Domino's Pizza located at 1601 Hwy. 5...\n",
       "11  I order in Domino's most often but today when ...\n",
       "12  So first off I ordered my pizza without garlic...\n",
       "13  Was Nov. 1st or 2nd this year... Ordered a 2 t...\n",
       "14  I place a order online at the Ralph Ave store ...\n",
       "15  The store in Millington TN. 38053. They are to...\n",
       "16  My Experience – I had ordered 2 farmhouse Pizz...\n",
       "17  This was at Marrickville 2204 store. The filth...\n",
       "18  I placed a order and waited in my living room ...\n",
       "19  My husband and I ordered from Domino's many ti...\n",
       "20  I love the Italiano pizza. It's very delicious...\n",
       "21  If I could give a Zero rating I would. We orde...\n",
       "22  I place an online order to have my 16 year old...\n",
       "23  I was going through some old vinyl albums and ...\n",
       "24  For 4 Sundays now their online ordering does n...\n",
       "25  I ordered A pizza on telephone Road in Houston...\n",
       "26  Domino's Thambuchetty Palya has worst service ...\n",
       "27  My daughters are pepperoni pizza fanatics. Whi...\n",
       "28  The chicken pasta dish had hardly chicken in i...\n",
       "29  I bought pizza online for home delivery. After...\n",
       "30  I never received my order, never received a ca...\n",
       "31  Last week I ordered 2 large 4 topping pizzas. ...\n",
       "32  I had a terrible experience again with this Do..."
      ]
     },
     "execution_count": 13,
     "metadata": {},
     "output_type": "execute_result"
    }
   ],
   "source": [
    "reviews_df"
   ]
  },
  {
   "cell_type": "code",
   "execution_count": 15,
   "metadata": {},
   "outputs": [],
   "source": [
    "# Writing the content of the data frame to a text file\n",
    "reviews_df.to_csv('reviews.txt', sep='t')"
   ]
  }
 ],
 "metadata": {
  "kernelspec": {
   "display_name": "Python 3",
   "language": "python",
   "name": "python3"
  },
  "language_info": {
   "codemirror_mode": {
    "name": "ipython",
    "version": 3
   },
   "file_extension": ".py",
   "mimetype": "text/x-python",
   "name": "python",
   "nbconvert_exporter": "python",
   "pygments_lexer": "ipython3",
   "version": "3.8.5"
  }
 },
 "nbformat": 4,
 "nbformat_minor": 4
}
